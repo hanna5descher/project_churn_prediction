{
 "cells": [
  {
   "cell_type": "code",
   "execution_count": 1,
   "metadata": {
    "collapsed": true
   },
   "outputs": [],
   "source": [
    "%matplotlib inline\n",
    "\n",
    "import pandas as pd\n",
    "import numpy as np\n",
    "import itertools\n",
    "from collections import Counter\n",
    "import itertools as it\n",
    "from matplotlib import pyplot as plt\n",
    "from sklearn.ensemble import RandomForestClassifier\n",
    "from sklearn.model_selection import train_test_split\n",
    "from sklearn.model_selection import StratifiedKFold\n",
    "from sklearn.model_selection import cross_val_score\n",
    "from sklearn.metrics import classification_report, confusion_matrix\n",
    "from sklearn.metrics import recall_score, f1_score\n",
    "from sklearn.metrics import precision_recall_curve, auc\n",
    "from sklearn.metrics import roc_curve, roc_auc_score, accuracy_score\n",
    "from imblearn.over_sampling import SMOTE\n",
    "\n",
    "import pickle"
   ]
  },
  {
   "cell_type": "code",
   "execution_count": 2,
   "metadata": {
    "collapsed": true
   },
   "outputs": [],
   "source": [
    "# Set random seed for reproducibility\n",
    "randomSeed = 10"
   ]
  },
  {
   "cell_type": "code",
   "execution_count": 3,
   "metadata": {},
   "outputs": [
    {
     "name": "stdout",
     "output_type": "stream",
     "text": [
      "Percentage of churned data: 27.464788732394368\n"
     ]
    }
   ],
   "source": [
    "# Load time series features data: y=1 (churned), y=0 (active)\n",
    "predictTimeStep = 2\n",
    "fillnaTimeLag = 7\n",
    "filename = 'features_perTerm_fillNA1_timeLag' + str(fillnaTimeLag) + '_timestep'+ str(predictTimeStep) + 'T1'\n",
    "dfFeaturesTS = pd.read_csv('dataProcessed/' + filename + '.csv', index_col = 0)\n",
    "idFeatures = dfFeaturesTS[['userid','termid']].drop_duplicates() \n",
    "userID = idFeatures['userid'].unique()\n",
    "termID = idFeatures['termid'].unique()\n",
    "\n",
    "# Load average activity (across all terms) data\n",
    "dfFeatures = pd.read_csv('dataProcessed/data_user_activity_summary.csv', index_col = 0)\n",
    "dfFeatures = dfFeatures[dfFeatures['userid'].isin(userID)] # select users that are included in the time series data\n",
    "dfFeatures.loc[dfFeatures['status']=='active','status'] = 0\n",
    "dfFeatures.loc[dfFeatures['status']=='cancel','status'] = 1\n",
    "#print('Total number of data points:', len(dfFeatures))\n",
    "#print('Number of active (y=0) terms:', len(dfFeatures.loc[dfFeatures['status']==0]))\n",
    "#print('Number of churned (y=1) terms:', len(dfFeatures.loc[dfFeatures['status']==1]))\n",
    "print('Percentage of churned data:', len(dfFeatures.loc[dfFeatures['status']==1])/len(dfFeatures)*100)\n",
    "\n",
    "\n",
    "# Create feature and target(Y) matrices\n",
    "rangeCol = np.arange(2,len(dfFeatures.columns))\n",
    "indState = 6 # exclude state (stateID is already included)\n",
    "indCol = rangeCol[rangeCol != indState]\n",
    "colFeatures = dfFeatures.columns[indCol]\n",
    "#print('Features:', colFeatures)\n",
    "#print('Number of features:', len(colFeatures))\n",
    "\n",
    "X = dfFeatures[colFeatures]\n",
    "Y = dfFeatures['status'].astype(int)\n"
   ]
  },
  {
   "cell_type": "code",
   "execution_count": 4,
   "metadata": {
    "collapsed": true
   },
   "outputs": [],
   "source": [
    "# Partition data into train(feature) and test sets\n",
    "nFoldsCV = 3 # total number of cross-validation folds\n",
    "featureX, testX, featureY, testY = train_test_split(X, Y,\n",
    "                                                    test_size=1/nFoldsCV, \n",
    "                                                    stratify=Y, \n",
    "                                                    random_state=randomSeed)"
   ]
  },
  {
   "cell_type": "code",
   "execution_count": 5,
   "metadata": {},
   "outputs": [
    {
     "name": "stdout",
     "output_type": "stream",
     "text": [
      "Original dataset shape Counter({0: 68, 1: 26})\n",
      "Resampled dataset shape Counter({0: 68, 1: 68})\n",
      "Original dataset shape Counter({0: 69, 1: 26})\n",
      "Resampled dataset shape Counter({1: 69, 0: 69})\n"
     ]
    },
    {
     "data": {
      "text/html": [
       "<div>\n",
       "<style>\n",
       "    .dataframe thead tr:only-child th {\n",
       "        text-align: right;\n",
       "    }\n",
       "\n",
       "    .dataframe thead th {\n",
       "        text-align: left;\n",
       "    }\n",
       "\n",
       "    .dataframe tbody tr th {\n",
       "        vertical-align: top;\n",
       "    }\n",
       "</style>\n",
       "<table border=\"1\" class=\"dataframe\">\n",
       "  <thead>\n",
       "    <tr style=\"text-align: right;\">\n",
       "      <th></th>\n",
       "      <th>num_fold</th>\n",
       "      <th>n_estimators</th>\n",
       "      <th>min_samples_leaf</th>\n",
       "      <th>recall</th>\n",
       "      <th>auc_roc</th>\n",
       "      <th>auc_pr</th>\n",
       "    </tr>\n",
       "  </thead>\n",
       "  <tbody>\n",
       "    <tr>\n",
       "      <th>7995</th>\n",
       "      <td>1.0</td>\n",
       "      <td>497.0</td>\n",
       "      <td>176.0</td>\n",
       "      <td>1.0</td>\n",
       "      <td>0.5</td>\n",
       "      <td>0.638298</td>\n",
       "    </tr>\n",
       "    <tr>\n",
       "      <th>7996</th>\n",
       "      <td>1.0</td>\n",
       "      <td>497.0</td>\n",
       "      <td>181.0</td>\n",
       "      <td>1.0</td>\n",
       "      <td>0.5</td>\n",
       "      <td>0.638298</td>\n",
       "    </tr>\n",
       "    <tr>\n",
       "      <th>7997</th>\n",
       "      <td>1.0</td>\n",
       "      <td>497.0</td>\n",
       "      <td>186.0</td>\n",
       "      <td>1.0</td>\n",
       "      <td>0.5</td>\n",
       "      <td>0.638298</td>\n",
       "    </tr>\n",
       "    <tr>\n",
       "      <th>7998</th>\n",
       "      <td>1.0</td>\n",
       "      <td>497.0</td>\n",
       "      <td>191.0</td>\n",
       "      <td>1.0</td>\n",
       "      <td>0.5</td>\n",
       "      <td>0.638298</td>\n",
       "    </tr>\n",
       "    <tr>\n",
       "      <th>7999</th>\n",
       "      <td>1.0</td>\n",
       "      <td>497.0</td>\n",
       "      <td>196.0</td>\n",
       "      <td>1.0</td>\n",
       "      <td>0.5</td>\n",
       "      <td>0.638298</td>\n",
       "    </tr>\n",
       "  </tbody>\n",
       "</table>\n",
       "</div>"
      ],
      "text/plain": [
       "      num_fold  n_estimators  min_samples_leaf  recall  auc_roc    auc_pr\n",
       "7995       1.0         497.0             176.0     1.0      0.5  0.638298\n",
       "7996       1.0         497.0             181.0     1.0      0.5  0.638298\n",
       "7997       1.0         497.0             186.0     1.0      0.5  0.638298\n",
       "7998       1.0         497.0             191.0     1.0      0.5  0.638298\n",
       "7999       1.0         497.0             196.0     1.0      0.5  0.638298"
      ]
     },
     "execution_count": 5,
     "metadata": {},
     "output_type": "execute_result"
    }
   ],
   "source": [
    "# Run parameter tuning\n",
    "nTrees = np.arange(2, 500, 5)\n",
    "minSamplesLeaf = np.arange(1,200,5)\n",
    "\n",
    "# split training data further to train & validation folds\n",
    "skf = StratifiedKFold(n_splits = nFoldsCV-1, random_state=randomSeed) \n",
    "\n",
    "# create a dataframe to save validation performance metrics\n",
    "colnames = ['num_fold','n_estimators','min_samples_leaf','recall','auc_roc','auc_pr']\n",
    "dfGridSearch = pd.DataFrame(columns = colnames)\n",
    "\n",
    "# run cross-validation\n",
    "counterFold = -1\n",
    "for indexTrain, indexVal in skf.split(featureX, featureY):\n",
    "    counterFold += 1\n",
    "    \n",
    "    # split datasets into training and validation\n",
    "    trainX = featureX.iloc[indexTrain]\n",
    "    trainY = featureY.iloc[indexTrain]\n",
    "    valX = featureX.iloc[indexVal]\n",
    "    valY = featureY.iloc[indexVal]\n",
    "    print('Original dataset shape {}'.format(Counter(trainY)))\n",
    "    \n",
    "    # SMOTE: Oversample training data [this applies to the training dataset only]\n",
    "    sm = SMOTE(random_state = randomSeed, ratio = 1.0)\n",
    "    trainX_res, trainY_res = sm.fit_sample(trainX, trainY)\n",
    "    print('Resampled dataset shape {}'.format(Counter(trainY_res)))\n",
    "    \n",
    "    # Due to SMOTE, need to run manual grid search\n",
    "    for nTree in nTrees:\n",
    "        for minSample in minSamplesLeaf:\n",
    "            clf = RandomForestClassifier(n_estimators = nTree,\n",
    "                                         min_samples_leaf = minSample,\n",
    "                                         n_jobs = -1,\n",
    "                                         random_state=randomSeed)\n",
    "            clf.fit(trainX_res, trainY_res)\n",
    "            \n",
    "            # test on validation set: auc & recall are evaluation metrics of interest\n",
    "            hard_pred = clf.predict(valX) # binary classification: based on 0.5 threshold\n",
    "            soft_pred = clf.predict_proba(valX) # probability\n",
    "            \n",
    "            auc_roc = roc_auc_score(valY,soft_pred[:,1]) # AUC of ROC curve\n",
    "            \n",
    "            recall = recall_score(valY,hard_pred) # recall score (based on 0.5 threshold)\n",
    "            precision_curve, recall_curve, thresholds = precision_recall_curve(valY,soft_pred[:,1]) # precision & recall\n",
    "            auc_pr = auc(recall_curve, precision_curve) # auc of precision-recall curve\n",
    "            \n",
    "            # append results\n",
    "            row = pd.Series({'num_fold': counterFold,\n",
    "                             'n_estimators': nTree, \n",
    "                             'min_samples_leaf': minSample,\n",
    "                             'recall': recall,\n",
    "                             'auc_roc': auc_roc,\n",
    "                             'auc_pr': auc_pr})\n",
    "            \n",
    "            dfGridSearch = dfGridSearch.append(row,ignore_index = True)\n",
    "            \n",
    "            \n",
    "dfGridSearch.tail()    \n"
   ]
  },
  {
   "cell_type": "code",
   "execution_count": 6,
   "metadata": {},
   "outputs": [
    {
     "name": "stdout",
     "output_type": "stream",
     "text": [
      "max AUC of ROC curve: 0.991417469998\n",
      "max AUC of ROC parameters: [(62.0, 1.0)]\n",
      "max AUC of P-R curve: 0.979656354322\n",
      "max AUC of P-R parameters: [(52.0, 1.0)]\n"
     ]
    }
   ],
   "source": [
    "# Extract the best model parameters\n",
    "summary = dfGridSearch.groupby(['n_estimators','min_samples_leaf']).mean()\n",
    "\n",
    "maxRecall = summary.loc[summary['recall'] == summary['recall'].max()]\n",
    "param_maxRecall = maxRecall.index.values\n",
    "#print('max recall:', summary['recall'].max())\n",
    "#print('max recall parameters:',param_maxRecall)\n",
    "\n",
    "maxAUC_ROC = summary.loc[summary['auc_roc'] == summary['auc_roc'].max()]\n",
    "param_maxAUC_ROC = maxAUC_ROC.index.values\n",
    "print('max AUC of ROC curve:', summary['auc_roc'].max())\n",
    "print('max AUC of ROC parameters:',param_maxAUC_ROC)\n",
    "\n",
    "maxAUC_PR = summary.loc[summary['auc_pr'] == summary['auc_pr'].max()]\n",
    "param_maxAUC_PR = maxAUC_PR.index.values\n",
    "print('max AUC of P-R curve:', summary['auc_pr'].max())\n",
    "print('max AUC of P-R parameters:',param_maxAUC_PR)\n"
   ]
  },
  {
   "cell_type": "code",
   "execution_count": 5,
   "metadata": {},
   "outputs": [
    {
     "name": "stdout",
     "output_type": "stream",
     "text": [
      "Original dataset shape Counter({0: 137, 1: 52})\n",
      "Resampled dataset shape Counter({1: 137, 0: 137})\n"
     ]
    },
    {
     "data": {
      "text/plain": [
       "RandomForestClassifier(bootstrap=True, class_weight=None, criterion='gini',\n",
       "            max_depth=None, max_features='auto', max_leaf_nodes=None,\n",
       "            min_impurity_split=1e-07, min_samples_leaf=1,\n",
       "            min_samples_split=2, min_weight_fraction_leaf=0.0,\n",
       "            n_estimators=52, n_jobs=-1, oob_score=False, random_state=10,\n",
       "            verbose=0, warm_start=False)"
      ]
     },
     "execution_count": 5,
     "metadata": {},
     "output_type": "execute_result"
    }
   ],
   "source": [
    "# Using the best parameters, train the model again\n",
    "# SMOTE: Oversample training data [this applies to the training dataset only]\n",
    "sm = SMOTE(random_state = randomSeed, ratio = 1.0)\n",
    "featureX_res, featureY_res = sm.fit_sample(featureX, featureY)\n",
    "print('Original dataset shape {}'.format(Counter(featureY)))\n",
    "print('Resampled dataset shape {}'.format(Counter(featureY_res)))\n",
    "\n",
    "# Train model\n",
    "param = param_maxAUC_PR[0] # use parameters from maximum AUC of precision-recall curve\n",
    "model = RandomForestClassifier(n_estimators = int(param[0]),\n",
    "                               min_samples_leaf = int(param[1]),\n",
    "                               n_jobs = -1,\n",
    "                               random_state=randomSeed)\n",
    "model.fit(featureX_res, featureY_res)"
   ]
  },
  {
   "cell_type": "code",
   "execution_count": 6,
   "metadata": {},
   "outputs": [
    {
     "name": "stdout",
     "output_type": "stream",
     "text": [
      "             precision    recall  f1-score   support\n",
      "\n",
      "          0       0.96      1.00      0.98        69\n",
      "          1       1.00      0.88      0.94        26\n",
      "\n",
      "avg / total       0.97      0.97      0.97        95\n",
      "\n"
     ]
    }
   ],
   "source": [
    "# Test model\n",
    "predY = model.predict(testX) # binary classification: based on 0.5 threshold\n",
    "probY = model.predict_proba(testX) # probability\n",
    "\n",
    "print(classification_report(testY, predY))"
   ]
  },
  {
   "cell_type": "code",
   "execution_count": 7,
   "metadata": {},
   "outputs": [
    {
     "name": "stdout",
     "output_type": "stream",
     "text": [
      "Accuracy: 0.968421052631579\n",
      "ROC Curve:\n"
     ]
    },
    {
     "data": {
      "image/png": "[encoded data removed]",
      "text/plain": [
       "<matplotlib.figure.Figure at 0x10dfe0278>"
      ]
     },
     "metadata": {},
     "output_type": "display_data"
    },
    {
     "name": "stdout",
     "output_type": "stream",
     "text": [
      "AUC: 0.943979933110368\n"
     ]
    }
   ],
   "source": [
    "# ROC Curve\n",
    "accuracy = accuracy_score(testY,predY)\n",
    "fpr,tpr,thresh = roc_curve(testY,probY[:,1])\n",
    "auc = roc_auc_score(testY,probY[:,1])\n",
    "\n",
    "print(\"Accuracy: {}\".format(accuracy))\n",
    "print(\"ROC Curve:\")\n",
    "plt.figure(figsize=(8,5))\n",
    "plt.plot(fpr,tpr)\n",
    "plt.plot([0,1],[0,1],\"r--\",alpha=.5)\n",
    "plt.xticks(fontsize=15)\n",
    "plt.yticks(fontsize=15)\n",
    "plt.xlabel('False Positive Rate',fontsize=17)\n",
    "plt.ylabel('True Positive Rate',fontsize=17)\n",
    "plt.show()\n",
    "print(\"AUC: {}\".format(auc))"
   ]
  },
  {
   "cell_type": "code",
   "execution_count": 9,
   "metadata": {
    "scrolled": true
   },
   "outputs": [
    {
     "name": "stdout",
     "output_type": "stream",
     "text": [
      "Normalized confusion matrix\n",
      "[[ 1.          0.        ]\n",
      " [ 0.11538462  0.88461538]]\n"
     ]
    },
    {
     "data": {
      "image/png": "[encoded data removed]",
      "text/plain": [
       "<matplotlib.figure.Figure at 0x10dfdb390>"
      ]
     },
     "metadata": {},
     "output_type": "display_data"
    }
   ],
   "source": [
    "def plot_confusion_matrix(cm, classes,\n",
    "                          normalize=False,\n",
    "                          title='Confusion matrix',\n",
    "                          cmap=plt.cm.Blues):\n",
    "    if normalize:\n",
    "        cm = cm.astype('float') / cm.sum(axis=1)[:, np.newaxis]\n",
    "        print(\"Normalized confusion matrix\")\n",
    "    else:\n",
    "        print('Confusion matrix, without normalization')\n",
    "\n",
    "    print(cm)\n",
    "\n",
    "    plt.imshow(cm, interpolation='nearest', cmap=cmap)\n",
    "    plt.title(title)\n",
    "    plt.colorbar()\n",
    "    tick_marks = np.arange(len(classes))\n",
    "    plt.xticks(tick_marks, classes, rotation=45)\n",
    "    plt.yticks(tick_marks, classes)\n",
    "\n",
    "    fmt = '.2f' if normalize else 'd'\n",
    "    thresh = cm.max() / 2.\n",
    "    for i, j in itertools.product(range(cm.shape[0]), range(cm.shape[1])):\n",
    "        plt.text(j, i, format(cm[i, j], fmt),\n",
    "                 horizontalalignment=\"center\",\n",
    "                 color=\"white\" if cm[i, j] > thresh else \"black\")\n",
    "\n",
    "    plt.tight_layout()\n",
    "    plt.ylabel('True label')\n",
    "    plt.xlabel('Predicted label')\n",
    "\n",
    "\n",
    "# Confusion matrix\n",
    "cnf_matrix = confusion_matrix(testY, predY)\n",
    "\n",
    "# Plot normalized confusion matrix\n",
    "plt.figure()\n",
    "plot_confusion_matrix(cnf_matrix, classes=['Active','Churn'], normalize=True,\n",
    "                      title='Normalized confusion matrix')\n",
    "\n",
    "plt.show()\n"
   ]
  },
  {
   "cell_type": "code",
   "execution_count": 10,
   "metadata": {},
   "outputs": [
    {
     "name": "stdout",
     "output_type": "stream",
     "text": [
      "Precision-Recall Curve:\n"
     ]
    },
    {
     "data": {
      "image/png": "[encoded data removed]",
      "text/plain": [
       "<matplotlib.figure.Figure at 0x103086080>"
      ]
     },
     "metadata": {},
     "output_type": "display_data"
    }
   ],
   "source": [
    "# Precision & Recall\n",
    "precision, recall, thresholds = precision_recall_curve(testY,probY[:,1])\n",
    "\n",
    "print(\"Precision-Recall Curve:\")\n",
    "plt.figure(figsize=(8,5))\n",
    "plt.plot(recall,precision)\n",
    "plt.xticks(fontsize=15)\n",
    "plt.yticks(fontsize=15)\n",
    "plt.xlabel('Recall',fontsize=17)\n",
    "plt.ylabel('Precision',fontsize=17)\n",
    "plt.show()\n"
   ]
  },
  {
   "cell_type": "code",
   "execution_count": 11,
   "metadata": {},
   "outputs": [
    {
     "data": {
      "image/png": "[encoded data removed]",
      "text/plain": [
       "<matplotlib.figure.Figure at 0x111767ef0>"
      ]
     },
     "metadata": {},
     "output_type": "display_data"
    }
   ],
   "source": [
    "# Feature importance\n",
    "importances = model.feature_importances_\n",
    "std = np.std([tree.feature_importances_ for tree in model.estimators_], axis=0)\n",
    "indices = np.argsort(importances)[::-1]\n",
    "#print(importances[indices])\n",
    "#print(colFeatures[indices])\n",
    "\n",
    "plt.figure(figsize=(15,5))\n",
    "plt.bar(range(len(colFeatures)), importances[indices], color='g', align=\"center\")\n",
    "#plt.xticks(range(len(colFeatures)), colFeatures[indices])\n",
    "plt.yticks(fontsize=15)\n",
    "plt.ylabel('Feature importance',fontsize=17)\n",
    "plt.xlabel('Features',fontsize=17)\n",
    "plt.show()"
   ]
  },
  {
   "cell_type": "code",
   "execution_count": 12,
   "metadata": {
    "collapsed": true
   },
   "outputs": [],
   "source": [
    "# SAVE MODEL\n",
    "filename = 'random_forest_SMOTE_allTerms_randomseed10_nEst'+ str(param[0]) + 'minSL' + str(param[1])\n",
    "pickle.dump(model, open('pickleModels/'+ filename + '.sav', 'wb'))"
   ]
  },
  {
   "cell_type": "code",
   "execution_count": null,
   "metadata": {
    "collapsed": true
   },
   "outputs": [],
   "source": []
  }
 ],
 "metadata": {
  "kernelspec": {
   "display_name": "Python 3",
   "language": "python",
   "name": "python3"
  },
  "language_info": {
   "codemirror_mode": {
    "name": "ipython",
    "version": 3
   },
   "file_extension": ".py",
   "mimetype": "text/x-python",
   "name": "python",
   "nbconvert_exporter": "python",
   "pygments_lexer": "ipython3",
   "version": "3.6.1"
  }
 },
 "nbformat": 4,
 "nbformat_minor": 2
}
